{
  "nbformat": 4,
  "nbformat_minor": 0,
  "metadata": {
    "colab": {
      "name": "Untitled1.ipynb",
      "provenance": [],
      "collapsed_sections": [],
      "authorship_tag": "ABX9TyNoFL48gCqdY/ksyKcRAHgN",
      "include_colab_link": true
    },
    "kernelspec": {
      "name": "python3",
      "display_name": "Python 3"
    },
    "language_info": {
      "name": "python"
    }
  },
  "cells": [
    {
      "cell_type": "markdown",
      "metadata": {
        "id": "view-in-github",
        "colab_type": "text"
      },
      "source": [
        "<a href=\"https://colab.research.google.com/github/Arnav18-en/Google_collab/blob/main/Mtplotlib1.ipynb\" target=\"_parent\"><img src=\"https://colab.research.google.com/assets/colab-badge.svg\" alt=\"Open In Colab\"/></a>"
      ]
    },
    {
      "cell_type": "code",
      "metadata": {
        "colab": {
          "base_uri": "https://localhost:8080/"
        },
        "id": "DgfmFZXIL-c3",
        "outputId": "4aab95b5-60c5-4608-e7e0-9b4f6eca34d7"
      },
      "source": [
        "from matplotlib import pyplot as plt\n",
        "\n",
        "\n",
        "a = [10, 5, 8, 4, 4]\n",
        "b = [9, 3, 5, 6, 4]\n",
        "\n",
        "x = [1, 2, 3]\n",
        "\n",
        "y = [-4, 0, 8]\n",
        "\n",
        "\n",
        "def bar(a,b):\n",
        "\n",
        "\n",
        "    plt.bar(a,b)\n",
        "    plt.show()\n",
        "\n",
        "def pie():\n",
        "    lables = 'python', 'c++', 'kotlin', 'java'\n",
        "    size = [500, 300, 300, 700]\n",
        "    color = ['blue', 'red', 'purple', 'yellow']\n",
        "    explode = (0.1, 0.0, 0.0, 0.0)\n",
        "    plt.pie(size, explode=explode, labels=lables, colors=color, autopct='%1.1f%%', shadow=True)\n",
        "    plt.show()\n",
        "\n",
        "def plot(x,y):\n",
        "    x = [1, 2, 3]\n",
        "\n",
        "    # =y-axis values\n",
        "    y = [-4, 0, 8]\n",
        "\n",
        "    plt.plot(x, y)\n",
        "    plt.show()\n",
        "\n",
        "ask1 = int(input(\"Enter the type\\n 1 for bar Graph\\n 2 for plot Graph\\n 3 for pie Chart\"))\n",
        "\n",
        "if ask1 == 1:\n",
        "    print(bar(a, b))\n",
        "elif ask1 == 2:\n",
        "    print(plot(x,y))\n",
        "\n",
        "\n",
        "\n",
        "\n",
        "\n",
        "\n",
        "\n",
        "\n",
        "\n",
        "\n",
        "\n"
      ],
      "execution_count": 1,
      "outputs": [
        {
          "output_type": "stream",
          "text": [
            "Enter the type\n",
            " 1 for bar Graph\n",
            " 2 for plot Graph\n",
            " 3 for pie Chart3\n"
          ],
          "name": "stdout"
        }
      ]
    }
  ]
}