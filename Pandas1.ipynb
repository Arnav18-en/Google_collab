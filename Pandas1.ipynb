{
  "nbformat": 4,
  "nbformat_minor": 0,
  "metadata": {
    "colab": {
      "name": "Untitled2.ipynb",
      "provenance": [],
      "collapsed_sections": [],
      "authorship_tag": "ABX9TyNAymHs1HKg3T0D+4Ec7Tkx",
      "include_colab_link": true
    },
    "kernelspec": {
      "name": "python3",
      "display_name": "Python 3"
    },
    "language_info": {
      "name": "python"
    }
  },
  "cells": [
    {
      "cell_type": "markdown",
      "metadata": {
        "id": "view-in-github",
        "colab_type": "text"
      },
      "source": [
        "<a href=\"https://colab.research.google.com/github/Arnav18-en/Google_collab/blob/main/Pandas1.ipynb\" target=\"_parent\"><img src=\"https://colab.research.google.com/assets/colab-badge.svg\" alt=\"Open In Colab\"/></a>"
      ]
    },
    {
      "cell_type": "code",
      "metadata": {
        "colab": {
          "base_uri": "https://localhost:8080/"
        },
        "id": "-ag_bsPeOCz8",
        "outputId": "74b74d19-d8c0-4599-bad0-c6c790c6efc3"
      },
      "source": [
        "import pandas as pd\n",
        "data = [['Nick',25,'Engineer'],['John',22,'Doctor'],['Charlie',33,'Actor']]\n",
        "DataFrame = pd.DataFrame(data,columns=['Name','Age','Occupation'],dtype=float)\n",
        "print(DataFrame)\n"
      ],
      "execution_count": 13,
      "outputs": [
        {
          "output_type": "stream",
          "text": [
            "      Name   Age Occupation\n",
            "0     Nick  25.0   Engineer\n",
            "1     John  22.0     Doctor\n",
            "2  Charlie  33.0      Actor\n"
          ],
          "name": "stdout"
        }
      ]
    },
    {
      "cell_type": "code",
      "metadata": {
        "colab": {
          "base_uri": "https://localhost:8080/"
        },
        "id": "Jk_ZujGLVD7u",
        "outputId": "c1582282-3f5f-4c43-9b48-9c3b01bf08ea"
      },
      "source": [
        "import pandas as pd\n",
        "data12 = {'Name':0,'Method':1,'Class':2}\n",
        "x = pd.Series(data12)\n",
        "print(x)"
      ],
      "execution_count": 14,
      "outputs": [
        {
          "output_type": "stream",
          "text": [
            "Name      0\n",
            "Method    1\n",
            "Class     2\n",
            "dtype: int64\n"
          ],
          "name": "stdout"
        }
      ]
    },
    {
      "cell_type": "code",
      "metadata": {
        "colab": {
          "base_uri": "https://localhost:8080/"
        },
        "id": "hb42pzBrU-Qq",
        "outputId": "37ab5abb-d8f6-4b67-d6f6-7117a56918dd"
      },
      "source": [
        "import pandas as pd\n",
        "data_list = ['Name','Method','Class']\n",
        "data_list1 = [0,1,2]\n",
        "z = pd.Series(data_list,data_list1)\n",
        "print(z)"
      ],
      "execution_count": 15,
      "outputs": [
        {
          "output_type": "stream",
          "text": [
            "0      Name\n",
            "1    Method\n",
            "2     Class\n",
            "dtype: object\n"
          ],
          "name": "stdout"
        }
      ]
    },
    {
      "cell_type": "code",
      "metadata": {
        "id": "JEMfdHqoWfG1"
      },
      "source": [
        "import pandas as pd\n"
      ],
      "execution_count": null,
      "outputs": []
    }
  ]
}